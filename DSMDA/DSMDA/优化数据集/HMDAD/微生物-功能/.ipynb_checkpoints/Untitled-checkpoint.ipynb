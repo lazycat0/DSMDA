{
 "cells": [
  {
   "cell_type": "code",
   "execution_count": 1,
   "id": "7640e81d-dcfd-497e-a5d9-e305663c48f6",
   "metadata": {},
   "outputs": [],
   "source": [
    "import pandas as pd\n",
    "\n",
    "# 读取micro_tid_unique.xlsx文件\n",
    "microbe_data = pd.read_excel('micro_tid_unique.xlsx')\n",
    "tid_to_code = dict(zip(microbe_data['TID'], microbe_data['Code']))\n",
    "\n",
    "# 读取associations_ds2.txt文件并处理\n",
    "with open('associations_ds2.txt', 'r') as infile, open('associations_ds2_code.txt', 'w') as outfile:\n",
    "    for line_num, line in enumerate(infile):\n",
    "        parts = line.strip().split('\\t')\n",
    "        tid = int(parts[0])\n",
    "        if tid in tid_to_code:\n",
    "            parts[0] = str(tid_to_code[tid])\n",
    "        for i in range(1, len(parts)):\n",
    "            if parts[i] == 'NA' and i == line_num + 1:\n",
    "                parts[i] = '1'\n",
    "        outfile.write('\\t'.join(parts) + '\\n')"
   ]
  },
  {
   "cell_type": "code",
   "execution_count": 2,
   "id": "d58d53ef-4d8a-4223-84e6-4aad331ea25d",
   "metadata": {},
   "outputs": [],
   "source": [
    "import pandas as pd\n",
    "\n",
    "# 读取micro_tid_unique.xlsx文件\n",
    "microbe_data = pd.read_excel('micro_tid_unique.xlsx')\n",
    "tid_to_code = dict(zip(microbe_data['TID'], microbe_data['Code']))\n",
    "\n",
    "# 读取associations_ds2.txt文件并处理\n",
    "with open('similarities_ds2.txt', 'r') as infile, open('similarities_ds2_code.txt', 'w') as outfile:\n",
    "    for line_num, line in enumerate(infile):\n",
    "        parts = line.strip().split('\\t')\n",
    "        tid = int(parts[0])\n",
    "        if tid in tid_to_code:\n",
    "            parts[0] = str(tid_to_code[tid])\n",
    "        for i in range(1, len(parts)):\n",
    "            if parts[i] == 'NA' and i == line_num + 1:\n",
    "                parts[i] = '1'\n",
    "        outfile.write('\\t'.join(parts) + '\\n')"
   ]
  },
  {
   "cell_type": "code",
   "execution_count": null,
   "id": "26524ed7-0b8b-4274-9467-9573bb4572b8",
   "metadata": {},
   "outputs": [],
   "source": []
  }
 ],
 "metadata": {
  "kernelspec": {
   "display_name": "Python 3 (ipykernel)",
   "language": "python",
   "name": "python3"
  },
  "language_info": {
   "codemirror_mode": {
    "name": "ipython",
    "version": 3
   },
   "file_extension": ".py",
   "mimetype": "text/x-python",
   "name": "python",
   "nbconvert_exporter": "python",
   "pygments_lexer": "ipython3",
   "version": "3.9.18"
  }
 },
 "nbformat": 4,
 "nbformat_minor": 5
}
